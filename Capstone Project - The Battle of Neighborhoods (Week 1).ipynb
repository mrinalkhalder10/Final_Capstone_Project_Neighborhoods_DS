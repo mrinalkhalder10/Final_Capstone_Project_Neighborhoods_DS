{
 "cells": [
  {
   "cell_type": "markdown",
   "metadata": {},
   "source": [
    "## Peer-graded Assignment: Capstone Project - The Battle of Neighborhoods (Week 1)"
   ]
  },
  {
   "cell_type": "markdown",
   "metadata": {},
   "source": [
    "## Introduction"
   ]
  },
  {
   "cell_type": "markdown",
   "metadata": {},
   "source": [
    "+ **Introduction / Description of the project**\n",
    "\n",
    "    Toronto is the provincial capital of Ontario and the most populous city in Canada, with a population of 2,731,571 .\n",
    "    In 2016, foreign-born persons made up 47 per cent of the population, compared to 49.9 per cent in 2006. \n",
    "    \n",
    "    According to the United Nations Development Programme, Toronto has the second-highest percentage of constant foreign-born   population among world cities, after Miami, Florida. While Miami's foreign-born population has traditionally consisted primarily of Cubans and other Latin Americans, no single nationality or culture dominates Toronto's immigrant population, placing it among the most diverse cities in the world. In 2010, it was estimated over 100,000 immigrants arrive in the Greater Toronto Area each year.   \n",
    "     \n",
    "    Food is a big deal in Toronto. Not only do we need it to live, but we’ve come into our own as a foodie destination. New restaurants are constantly opening, and chefs continue to push culinary boundaries to come up with new and innovative ideas. It’s a bit dizzying just how MUCH good stuff there is to eat here.\n",
    "    \n",
    "    With it’s diverse culture , comes diverse food items. There are many restaurants in Toronto, each belonging to different categories like Chinese , Indian , French etc. \n",
    "    \n",
    "    In this project we will try to analyse all the **Indian Restaurant** currently present in Toronto's different neighborhood and check the top few Indian Restuarnt's popularity from its Like, rating, tips etc and will able to provide an final result/analysis at the end of this project. \n",
    "   \n"
   ]
  },
  {
   "cell_type": "markdown",
   "metadata": {},
   "source": [
    "---"
   ]
  },
  {
   "cell_type": "markdown",
   "metadata": {},
   "source": [
    "### Background of the Business Problem"
   ]
  },
  {
   "cell_type": "markdown",
   "metadata": {},
   "source": [
    "+ **Business Problem**\n",
    "\n",
    "Here in our project we will check all the **Indian Restaurant** that are present in differrent Postalcode, Boroughs and Neighborhoods of Toronto.\n",
    "We will analyse the data of Toronto's Borough and Neighborshoods and see where the Indian Restaurant are in highest number and in high demand and then we will compare all the Indian Restaurant according to their Likes, Tips and Rating. We will visualize all the great Indian Restaurant in different types of graphs and map.\n",
    "\n",
    "I will first provide the initial data preparation and describe future steps to start the project below. \n",
    "\n",
    "I will go through each step of this project and address them separately.\n",
    "\n",
    "\n",
    "+ **Target Audience** \n",
    "\n",
    "*Who all will be beneficial from this  project :*\n",
    "\n",
    "+ _Business Persons_ who are interested to invest and launch new Indian Restaurant in Torontos's different Neighborhood, will get an idea about currently in which neighborhood people are loving Indian food and where new Indian Restaurant needs to be opened to let people have the taste of Indian Food. And where there will a tough competetion between other great Indian restaurants who are currently running in smooth way and if he sets a plan to open a new Indian restaurant then this  comprehensive guide will help him/her to know the prime competitors . \n",
    "\n",
    "\n",
    "+ _Student_ and other _foreign-born population_ can look into our analysis and find out the top place to visit for Indian Cuisine in Toronto and enjoy their meal.\n",
    "\n",
    "\n",
    "+ _Data Scientist/Analyst_ can view our analysis for this project and can have a good idea to implement in other different problem using the techniques and ideas used here.\n",
    "\n"
   ]
  },
  {
   "cell_type": "markdown",
   "metadata": {},
   "source": [
    "***"
   ]
  },
  {
   "cell_type": "markdown",
   "metadata": {},
   "source": [
    "## DATA Preparation"
   ]
  },
  {
   "cell_type": "markdown",
   "metadata": {},
   "source": [
    "+ **DATA Collection**\n",
    "\n",
    "  In this project we will be needing the below data : \n",
    "  \n",
    "    \n",
    "+ **Web Scrape** the City of Toronto data that contains PostalCode, Borough, and Neighborhood.  \n",
    "\n",
    "   _For the Toronto neighborhood data, a Wikipedia page exists that has all the information we need to explore_\n",
    "   _and cluster the neighborhoods in Toronto._\n",
    "   _You will be required to scrape the Wikipedia page and wrangle the data, clean it, and then read it into a pandas dataframe_\n",
    "   _so that it is in a structured format like the New York dataset._\n",
    "   \n",
    "   _Data:  https://en.wikipedia.org/wiki/List_of_postal_codes_of_Canada:_M_\n",
    "   \n",
    "   For scraping the data we will be using **BeautifulSoup package.**  \n",
    "   \n",
    "   \n",
    "   \n",
    "   \n",
    "+ We will need geopy library to get the latitude and longitude values of Toronto City.\n",
    "\n",
    "   _Data:  We will utilize the **Foursquare** location data, we need to get the latitude and the longitude coordinates of each neighborhood._\n",
    "                https://cocl.us/Geospatial_data\n",
    "              \n",
    "              \n",
    "              \n",
    "+ Venues of all Indian Restaurant in Toronto city and their rating, likes and tips information data.\n",
    "\n",
    "    _Data : Foursquare API_ \n",
    "    \n",
    "    \n",
    "    \n",
    "+  Visualize the data in form of Boundary Map.\n",
    "\n",
    "    _Data : Folium package (Folium is a python library that can create interactive leaflet map using coordinate data.)_  \n",
    "    \n",
    "      _Sk-learn package & yellowbrick package_\n",
    "             \n",
    "                       \n",
    "                       \n",
    "    "
   ]
  },
  {
   "cell_type": "markdown",
   "metadata": {},
   "source": [
    "___"
   ]
  },
  {
   "cell_type": "markdown",
   "metadata": {},
   "source": [
    "## DATA processing steps"
   ]
  },
  {
   "cell_type": "markdown",
   "metadata": {},
   "source": [
    "-: **Steps** :-\n",
    "\n",
    "\n",
    "+  Firstly we will web scrap data and collect Toronto city's data that contains PostalCode, Borough, and Neighborhood and put it in a dataframe.\n",
    "\n",
    "\n",
    "+  We will then clean the data according to our need, remove unassigned values in borough or unwanted features and merge different neighborhood with same borough etc.\n",
    "\n",
    "\n",
    "\n",
    "+  Foursquare api will help to get the coordinates i:e latitude and longitude of all the neighborhoods of Toronto city via Geopy Client.\n",
    "\n",
    "\n",
    "+  Filter out the Venues of all Indian Restaurant present in Toronto city.\n",
    "\n",
    "\n",
    "+  We will then collect the likes, rating , tips etc for each of the indian restaurant and then sort them according to their values .\n",
    "\n",
    "\n",
    "+  The comparision data and the ranking will be plotted on Bar Chart graphs using matplotlib library, Seaborn library , Sk-learn package & yellowbrick package library .\n",
    "\n",
    "\n",
    "+  We will Visualize the data of top Neighborhood based on the venue categories in a Toronto City map using _Folium Package_.\n",
    "\n",
    "\n",
    "\n",
    "+  Finally, we will cluster these top Neighborhood based on the venue categories and use K-Means clustering Machine learning technique to build a model using Elbow point method.\n",
    "\n",
    "\n",
    "\n",
    "\n",
    "    "
   ]
  },
  {
   "cell_type": "code",
   "execution_count": null,
   "metadata": {},
   "outputs": [],
   "source": []
  },
  {
   "cell_type": "code",
   "execution_count": null,
   "metadata": {},
   "outputs": [],
   "source": []
  }
 ],
 "metadata": {
  "kernelspec": {
   "display_name": "Python 3",
   "language": "python",
   "name": "python3"
  },
  "language_info": {
   "codemirror_mode": {
    "name": "ipython",
    "version": 3
   },
   "file_extension": ".py",
   "mimetype": "text/x-python",
   "name": "python",
   "nbconvert_exporter": "python",
   "pygments_lexer": "ipython3",
   "version": "3.7.4"
  }
 },
 "nbformat": 4,
 "nbformat_minor": 2
}
